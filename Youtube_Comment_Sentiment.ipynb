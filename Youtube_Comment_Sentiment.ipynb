{
 "cells": [
  {
   "cell_type": "markdown",
   "metadata": {},
   "source": [
    "<h1> Youtube Comments Sentiment Analysis using NLP"
   ]
  },
  {
   "cell_type": "markdown",
   "metadata": {},
   "source": [
    "# Introduction  \n",
    "Sentiment analysis is a crucial task in Natural Language Processing (NLP) that involves determining the sentiment behind a given text. This project explores sentiment classification using deep learning models, specifically GRU and LSTM, to analyze text data. Various preprocessing techniques, data augmentation methods, and hyperparameter tuning strategies were applied to improve model accuracy. By leveraging TensorFlow and Keras, we aimed to build an optimized model capable of classifying sentiment into three categories.  "
   ]
  },
  {
   "cell_type": "markdown",
   "metadata": {},
   "source": [
    "Necessary Imports"
   ]
  },
  {
   "cell_type": "code",
   "execution_count": 208,
   "metadata": {},
   "outputs": [],
   "source": [
    "import pandas as pd\n",
    "import langid  \n",
    "from deep_translator import GoogleTranslator\n",
    "from tqdm import tqdm  \n",
    "from tensorflow.keras.preprocessing.text import Tokenizer\n",
    "import re\n",
    "import contractions\n",
    "import nltk\n",
    "from nltk.corpus import stopwords\n",
    "from nltk.stem import WordNetLemmatizer\n",
    "import numpy as np\n",
    "from tensorflow.keras.preprocessing.sequence import pad_sequences\n",
    "import keras_tuner as kt\n",
    "from tensorflow.keras.models import Sequential\n",
    "from tensorflow.keras.layers import Embedding, GRU, Dense, Dropout, BatchNormalization\n",
    "from tensorflow.keras.optimizers import Adam\n",
    "from sklearn.model_selection import train_test_split\n",
    "from tensorflow.keras.utils import to_categorical \n",
    "from sklearn.metrics import accuracy_score\n",
    "from tensorflow.keras.layers import LSTM\n",
    "from sklearn.metrics import classification_report\n",
    "from sklearn.metrics import confusion_matrix\n",
    "import seaborn as sns\n",
    "import matplotlib.pyplot as plt"
   ]
  },
  {
   "cell_type": "markdown",
   "metadata": {},
   "source": [
    "Reading the dataset using the variable 'df'"
   ]
  },
  {
   "cell_type": "code",
   "execution_count": null,
   "metadata": {},
   "outputs": [],
   "source": [
    "df=pd.read_csv('YoutubeCommentsDataSet.csv')\n",
    "print(df.sample(10).to_string(index=False))"
   ]
  },
  {
   "cell_type": "markdown",
   "metadata": {},
   "source": [
    "Checking summary statistics and dataset information."
   ]
  },
  {
   "cell_type": "code",
   "execution_count": null,
   "metadata": {},
   "outputs": [],
   "source": [
    "display(df.describe())\n",
    "display(df.info)"
   ]
  },
  {
   "cell_type": "markdown",
   "metadata": {},
   "source": [
    "Checking for null values"
   ]
  },
  {
   "cell_type": "code",
   "execution_count": null,
   "metadata": {},
   "outputs": [],
   "source": [
    "print(df.isnull().sum())"
   ]
  },
  {
   "cell_type": "markdown",
   "metadata": {},
   "source": [
    "Dropping the whole records where null values were found"
   ]
  },
  {
   "cell_type": "code",
   "execution_count": null,
   "metadata": {},
   "outputs": [],
   "source": [
    "df = df.dropna()\n",
    "print(df.isnull().sum())"
   ]
  },
  {
   "cell_type": "markdown",
   "metadata": {},
   "source": [
    "Identifying Non-English Comments  \n",
    "Detecting non-English comments to separate them for later translation.\n"
   ]
  },
  {
   "cell_type": "code",
   "execution_count": null,
   "metadata": {},
   "outputs": [],
   "source": [
    "def is_english(text):\n",
    "    lang, _ = langid.classify(text)\n",
    "    return lang == 'en'\n",
    "\n",
    "df[\"is_english\"] = df[\"Comment\"].apply(is_english)\n",
    "\n",
    "df_english = df[df[\"is_english\"]]\n",
    "df_non_english = df[~df[\"is_english\"]]\n",
    "\n",
    "print(f\"Total non-English comments: {len(df_non_english)}\")  \n",
    "print(f\"Total English comments: {len(df_english)}\")\n",
    "df.drop(columns=[\"is_english\"], inplace=True)  "
   ]
  },
  {
   "cell_type": "markdown",
   "metadata": {},
   "source": [
    "Translating Non-English Comments  \n",
    "Using Google Translator to convert non-English comments into English, then merging them back into the dataset.\n"
   ]
  },
  {
   "cell_type": "code",
   "execution_count": null,
   "metadata": {},
   "outputs": [],
   "source": [
    "translator = GoogleTranslator(source=\"auto\", target=\"en\")\n",
    "\n",
    "def translate_to_english(text):\n",
    "    try:\n",
    "        return translator.translate(text)\n",
    "    except Exception:\n",
    "        return text  \n",
    "\n",
    "tqdm.pandas(desc=\"Translating\")\n",
    "df_non_english[\"Comment\"] = df_non_english[\"Comment\"].progress_apply(translate_to_english)\n",
    "\n",
    "\n",
    "df_combined = pd.concat([df_english, df_non_english], ignore_index=True).sample(frac=1).reset_index(drop=True)\n",
    "\n",
    "print(\" Translation complete! Here's a preview:\")\n",
    "print(df_combined.head())"
   ]
  },
  {
   "cell_type": "markdown",
   "metadata": {},
   "source": [
    "The conversion process took around 30 minutes. So we then save this to a new csv file to avoid re-runs."
   ]
  },
  {
   "cell_type": "code",
   "execution_count": null,
   "metadata": {},
   "outputs": [],
   "source": [
    "df_combined.to_csv(\"Translated.csv\")"
   ]
  },
  {
   "cell_type": "markdown",
   "metadata": {},
   "source": [
    "Now reading the dataset from the newly created csv file."
   ]
  },
  {
   "cell_type": "code",
   "execution_count": 216,
   "metadata": {},
   "outputs": [
    {
     "name": "stdout",
     "output_type": "stream",
     "text": [
      "   Unnamed: 0                                            Comment Sentiment  \\\n",
      "0           0  i have been trying to solve a rubik’s cube for...  positive   \n",
      "1           1  thank you for a lovely video i must admit that...  positive   \n",
      "2           2              ahah you are lucky soon the splatfest   neutral   \n",
      "3           3  omg as an international student i was kinda ho...  positive   \n",
      "4           4  so clever of joes puppetmaster to say that sam...  negative   \n",
      "\n",
      "   is_english  \n",
      "0        True  \n",
      "1        True  \n",
      "2       False  \n",
      "3        True  \n",
      "4        True  \n"
     ]
    }
   ],
   "source": [
    "df=pd.read_csv('Translated.csv')\n",
    "print(df.head())"
   ]
  },
  {
   "cell_type": "markdown",
   "metadata": {},
   "source": [
    "Dropping the unwanted column created (old_index and is_english)."
   ]
  },
  {
   "cell_type": "code",
   "execution_count": 217,
   "metadata": {},
   "outputs": [
    {
     "name": "stdout",
     "output_type": "stream",
     "text": [
      "                                             Comment Sentiment\n",
      "0  i have been trying to solve a rubik’s cube for...  positive\n",
      "1  thank you for a lovely video i must admit that...  positive\n",
      "2              ahah you are lucky soon the splatfest   neutral\n",
      "3  omg as an international student i was kinda ho...  positive\n",
      "4  so clever of joes puppetmaster to say that sam...  negative\n"
     ]
    }
   ],
   "source": [
    "df = df.drop(columns=['Unnamed: 0', 'is_english'])\n",
    "\n",
    "df = df.reset_index(drop=True)\n",
    "\n",
    "print(df.head())"
   ]
  },
  {
   "cell_type": "code",
   "execution_count": 218,
   "metadata": {},
   "outputs": [
    {
     "name": "stdout",
     "output_type": "stream",
     "text": [
      "                                                 Comment Sentiment\n",
      "18083  cute animals  love your videos super like as a...  positive\n",
      "12556  plague requiem high on life and moon scars are...  positive\n",
      "6724   915 this father actually died from the fall tr...  negative\n",
      "3050                                            awesome   positive\n",
      "13221  if one guy posting memes in a group chat is th...   neutral\n",
      "4139   I work with Vescovi any day I will ask from el...   neutral\n",
      "10025  its never about who bring magnus or hikaru at ...  positive\n",
      "15810  taking the sat on saturday good luck to everyo...  positive\n",
      "10218  loving the series cc does anyone know any refe...  positive\n",
      "1392   this actually worked really well for me the fi...  positive\n"
     ]
    }
   ],
   "source": [
    "df=df.dropna(axis=0)\n",
    "print(df.sample(10))"
   ]
  },
  {
   "cell_type": "markdown",
   "metadata": {},
   "source": [
    "Text Cleaning: Removing Special Characters  \n",
    "Cleaning comments by\n",
    "1. Converting to lowercase\n",
    "2. Expanding contractions\n",
    "3. Removing any URLs\n",
    "4. Removing any user tags '@'\n",
    "5. Keeping only alphanumerics and spaces\n",
    "6. Removing extra spaces\n"
   ]
  },
  {
   "cell_type": "code",
   "execution_count": 219,
   "metadata": {},
   "outputs": [
    {
     "name": "stdout",
     "output_type": "stream",
     "text": [
      "                                             Comment Sentiment\n",
      "0  i have been trying to solve a rubiks cube for ...  positive\n",
      "1  thank you for a lovely video i must admit that...  positive\n",
      "2              ahah you are lucky soon the splatfest   neutral\n",
      "3  omg as an international student i was kind of ...  positive\n",
      "4  so clever of joes puppetmaster to say that sam...  negative\n"
     ]
    }
   ],
   "source": [
    "def clean_text(text):\n",
    "    text = text.lower()  \n",
    "    text = contractions.fix(text) \n",
    "    text = re.sub(r\"http\\S+|www\\S+\", \"\", text)  \n",
    "    text = re.sub(r\"@\\w+\", \"\", text)  \n",
    "    text = re.sub(r\"[^a-zA-Z0-9\\s]\", \"\", text)  \n",
    "    text = re.sub(r\"\\s+\", \" \", text).strip()  \n",
    "    return text  \n",
    "\n",
    "df[\"Comment\"] = df[\"Comment\"].apply(clean_text)\n",
    "\n",
    "print(df.head())"
   ]
  },
  {
   "cell_type": "markdown",
   "metadata": {},
   "source": [
    "Text Preprocessing: Stopword Removal & Lemmatization  \n",
    "Tokenizing comments, removing stopwords, and applying lemmatization to normalize text.\n"
   ]
  },
  {
   "cell_type": "code",
   "execution_count": 220,
   "metadata": {},
   "outputs": [
    {
     "name": "stderr",
     "output_type": "stream",
     "text": [
      "[nltk_data] Downloading package stopwords to\n",
      "[nltk_data]     C:\\Users\\kesav\\AppData\\Roaming\\nltk_data...\n",
      "[nltk_data]   Package stopwords is already up-to-date!\n",
      "[nltk_data] Downloading package wordnet to\n",
      "[nltk_data]     C:\\Users\\kesav\\AppData\\Roaming\\nltk_data...\n",
      "[nltk_data]   Package wordnet is already up-to-date!\n",
      "[nltk_data] Downloading package punkt to\n",
      "[nltk_data]     C:\\Users\\kesav\\AppData\\Roaming\\nltk_data...\n",
      "[nltk_data]   Package punkt is already up-to-date!\n"
     ]
    },
    {
     "name": "stdout",
     "output_type": "stream",
     "text": [
      "                                             Comment Sentiment\n",
      "0  trying solve rubiks cube year video made confi...  positive\n",
      "1  thank lovely video must admit said really help...  positive\n",
      "2                          ahah lucky soon splatfest   neutral\n",
      "3  omg international student kind hopeless exam f...  positive\n",
      "4  clever joes puppetmaster say guy said not unde...  negative\n"
     ]
    }
   ],
   "source": [
    "nltk.download(['stopwords', 'wordnet', 'punkt'])\n",
    "\n",
    "lemmatizer = WordNetLemmatizer()\n",
    "stop_words = set(stopwords.words('english'))\n",
    "stop_words.discard('not')  \n",
    "\n",
    "def preprocess_text(text):\n",
    "    words = text.split()  \n",
    "    cleaned_words = [lemmatizer.lemmatize(word) for word in words if word not in stop_words]\n",
    "    return ' '.join(cleaned_words)\n",
    "\n",
    "df['Comment'] = df['Comment'].apply(preprocess_text)\n",
    "\n",
    "print(df.head())"
   ]
  },
  {
   "cell_type": "code",
   "execution_count": 221,
   "metadata": {},
   "outputs": [
    {
     "name": "stdout",
     "output_type": "stream",
     "text": [
      "                                                 Comment Sentiment\n",
      "17849  great platform auto crypto arbitrage think spe...  positive\n",
      "14606  must fed praise beauty nature not mean proud b...   neutral\n",
      "14988  pretty good summary disagree statement not sci...   neutral\n",
      "7847   sorry way said poor took not expecting cackle ...  negative\n",
      "3198   please make video pre college ec c highschoole...   neutral\n",
      "13621  hi everyone pointed map 936 incorrectly show t...  negative\n",
      "10801                    get 57 365 data science program   neutral\n",
      "15798      ill upgrade finally put usbc next year iphone  positive\n",
      "10616  discovered channel series going watching older...  positive\n",
      "8879                   keep fight m cheney country party  positive\n"
     ]
    }
   ],
   "source": [
    "print(df.sample(10))"
   ]
  },
  {
   "cell_type": "markdown",
   "metadata": {},
   "source": [
    "Encoding Sentiment Labels  \n",
    "Converting sentiment categories into numerical values for model training.  \n",
    "- **Negative → 0**  \n",
    "- **Neutral → 1**  \n",
    "- **Positive → 2**  \n"
   ]
  },
  {
   "cell_type": "code",
   "execution_count": 222,
   "metadata": {},
   "outputs": [
    {
     "name": "stdout",
     "output_type": "stream",
     "text": [
      "                                             Comment  Sentiment\n",
      "0  trying solve rubiks cube year video made confi...          2\n",
      "1  thank lovely video must admit said really help...          2\n",
      "2                          ahah lucky soon splatfest          1\n",
      "3  omg international student kind hopeless exam f...          2\n",
      "4  clever joes puppetmaster say guy said not unde...          0\n"
     ]
    }
   ],
   "source": [
    "df['Sentiment'] = df['Sentiment'].map({'negative': 0, 'neutral': 1, 'positive': 2})\n",
    "\n",
    "print(df.head())"
   ]
  },
  {
   "cell_type": "markdown",
   "metadata": {},
   "source": [
    "Tokenization: Converting Text to Sequences  \n",
    "Using Keras Tokenizer to convert comments into numerical sequences while keeping the top 5000 most frequent words.  \n",
    "Out-of-vocabulary (OOV) words are replaced with `<OOV>`.  \n"
   ]
  },
  {
   "cell_type": "code",
   "execution_count": 223,
   "metadata": {},
   "outputs": [
    {
     "name": "stdout",
     "output_type": "stream",
     "text": [
      "Total unique words: 29160\n",
      "Words actually used (excluding OOV): 29160\n",
      "Words kept (max vocab size): 5000\n",
      "Example tokenized comment: [174, 439, 826, 114, 16, 3, 50, 840, 158, 826, 114, 13, 81, 3]\n"
     ]
    }
   ],
   "source": [
    "vocab_size = 5000  \n",
    "tokenizer = Tokenizer(num_words=vocab_size, oov_token=\"<OOV>\")  \n",
    "tokenizer.fit_on_texts(df['Comment'])\n",
    "\n",
    "X_tokens = tokenizer.texts_to_sequences(df['Comment'])\n",
    "\n",
    "\n",
    "print(f\"Total unique words: {len(tokenizer.word_index)}\")  \n",
    "print(f\"Words actually used (excluding OOV): {len(tokenizer.index_word)}\")  \n",
    "print(f\"Words kept (max vocab size): {vocab_size}\")  \n",
    "print(f\"Example tokenized comment: {X_tokens[0] if X_tokens else 'No data'}\")"
   ]
  },
  {
   "cell_type": "markdown",
   "metadata": {},
   "source": [
    "Analyzing Word Frequencies  \n",
    "Sorting words by frequency to identify those excluded from the top 5000 vocabulary limit.\n"
   ]
  },
  {
   "cell_type": "code",
   "execution_count": 224,
   "metadata": {},
   "outputs": [
    {
     "name": "stdout",
     "output_type": "stream",
     "text": [
      " Top 20 words excluded from vocabulary:\n",
      "             Word  Frequency\n",
      "0      resistance          7\n",
      "1          seetoh          7\n",
      "2         poverty          7\n",
      "3            2012          7\n",
      "4           canon          7\n",
      "5         glucose          7\n",
      "6           venom          7\n",
      "7           stake          7\n",
      "8          roller          7\n",
      "9           nurse          7\n",
      "10        abandon          7\n",
      "11            sio          7\n",
      "12        sinking          7\n",
      "13      authority          7\n",
      "14         gladly          7\n",
      "15          drill          7\n",
      "16         injury          7\n",
      "17  communicating          7\n",
      "18       employed          7\n",
      "19        axolotl          7\n"
     ]
    }
   ],
   "source": [
    "word_counts = tokenizer.word_counts  \n",
    "sorted_word_counts = sorted(word_counts.items(), key=lambda x: x[1], reverse=True)  \n",
    "\n",
    "\n",
    "if len(sorted_word_counts) > vocab_size:\n",
    "    excluded_words = sorted_word_counts[vocab_size:]  \n",
    "else:\n",
    "    excluded_words = []  \n",
    "\n",
    "df_excluded = pd.DataFrame(excluded_words, columns=['Word', 'Frequency'])\n",
    "\n",
    "if not df_excluded.empty:\n",
    "    print(\" Top 20 words excluded from vocabulary:\")\n",
    "    print(df_excluded.head(20))\n",
    "else:\n",
    "    print(\" No words were excluded, as total unique words are within vocab_size.\")\n"
   ]
  },
  {
   "cell_type": "markdown",
   "metadata": {},
   "source": [
    "Analyzing Comment Lengths  \n",
    "Checking the distribution of comment lengths to determine an optimal padding length.  \n",
    "- **Max Length** → Longest comment  \n",
    "- **Average Length** → Mean comment length  \n",
    "- **90th Percentile** → Covers 90% of comments  \n"
   ]
  },
  {
   "cell_type": "code",
   "execution_count": 225,
   "metadata": {},
   "outputs": [
    {
     "name": "stdout",
     "output_type": "stream",
     "text": [
      " Min comment length: 0\n",
      " Max comment length: 1288\n",
      " Median comment length: 11.0\n",
      " Average comment length: 17.73\n",
      " 90th percentile length: 35.0\n",
      "\n",
      " Length distribution (Histogram):\n",
      " - 0 to 128: 18239 comments\n",
      " - 128 to 257: 94 comments\n",
      " - 257 to 386: 16 comments\n",
      " - 386 to 515: 9 comments\n",
      " - 515 to 644: 2 comments\n",
      " - 644 to 772: 1 comments\n",
      " - 772 to 901: 1 comments\n",
      " - 901 to 1030: 0 comments\n",
      " - 1030 to 1159: 0 comments\n",
      " - 1159 to 1288: 1 comments\n"
     ]
    }
   ],
   "source": [
    "comment_lengths = [len(seq) for seq in X_tokens]\n",
    "\n",
    "print(f\" Min comment length: {np.min(comment_lengths)}\")\n",
    "print(f\" Max comment length: {np.max(comment_lengths)}\")\n",
    "print(f\" Median comment length: {np.median(comment_lengths)}\")\n",
    "print(f\" Average comment length: {np.mean(comment_lengths):.2f}\")\n",
    "print(f\" 90th percentile length: {np.percentile(comment_lengths, 90)}\")\n",
    "\n",
    "\n",
    "hist, bins = np.histogram(comment_lengths, bins=10)\n",
    "print(\"\\n Length distribution (Histogram):\")\n",
    "for i in range(len(bins) - 1):\n",
    "    print(f\" - {int(bins[i])} to {int(bins[i+1])}: {hist[i]} comments\")\n"
   ]
  },
  {
   "cell_type": "markdown",
   "metadata": {},
   "source": [
    "Padding Sequences for Uniform Length  \n",
    "Ensuring all comments have the same length by padding or truncating them to **35 tokens** based on length analysis.  \n",
    "- **Padding:** Adds zeros at the end of shorter sequences.  \n",
    "- **Truncating:** Cuts longer sequences at the end.  \n"
   ]
  },
  {
   "cell_type": "code",
   "execution_count": 226,
   "metadata": {},
   "outputs": [
    {
     "name": "stdout",
     "output_type": "stream",
     "text": [
      " Padded sequences shape: (18363, 35)\n",
      " Example padded sequence: [174 439 826 114  16   3  50 840 158 826 114  13  81   3   0   0   0   0\n",
      "   0   0   0   0   0   0   0   0   0   0   0   0   0   0   0   0   0]\n"
     ]
    }
   ],
   "source": [
    "maxlen = 35  \n",
    "X_padded = pad_sequences(X_tokens, maxlen=maxlen, padding='post', truncating='post')\n",
    "\n",
    "print(f\" Padded sequences shape: {X_padded.shape}\") \n",
    "print(f\" Example padded sequence: {X_padded[0]}\")\n"
   ]
  },
  {
   "cell_type": "markdown",
   "metadata": {},
   "source": [
    "Checking the dataset after all the preprocessing"
   ]
  },
  {
   "cell_type": "code",
   "execution_count": 227,
   "metadata": {},
   "outputs": [
    {
     "name": "stdout",
     "output_type": "stream",
     "text": [
      "     0     1     2    3     4    5     6     7    8     9     10    11    12    13   14    15  16    17   18    19  20  21  22   23  24  25    26    27   28  29   30   31   32    33    34\n",
      "0   174   439   826  114    16    3    50   840  158   826   114    13    81     3    0     0   0     0    0     0   0   0   0    0   0   0     0     0    0   0    0    0    0     0     0\n",
      "1    13  1368     3  311  1830  102     8   278    1    23  3767   661    13   129    4     3  15  3768    4  1028   1   7   0    0   0   0     0     0    0   0    0    0    0     0     0\n",
      "2     1  1153   390    1     0    0     0     0    0     0     0     0     0     0    0     0   0     0    0     0   0   0   0    0   0   0     0     0    0   0    0    0    0     0     0\n",
      "3   841  1627   130  126     1  652   192    71    1   621     3  2075    47    64    0     0   0     0    0     0   0   0   0    0   0   0     0     0    0   0    0    0    0     0     0\n",
      "4  3143     1     1   55    54  102     2     1    1   801     1    23     0     0    0     0   0     0    0     0   0   0   0    0   0   0     0     0    0   0    0    0    0     0     0\n",
      "5    29  4026  2076  143     1    1  2512  2988  488    55    65     1   488     0    0     0   0     0    0     0   0   0   0    0   0   0     0     0    0   0    0    0    0     0     0\n",
      "6     1   141    35   11     0    0     0     0    0     0     0     0     0     0    0     0   0     0    0     0   0   0   0    0   0   0     0     0    0   0    0    0    0     0     0\n",
      "7   860   150  1280    1   716  408   592    66  150  1369    89   317     1     0    0     0   0     0    0     0   0   0   0    0   0   0     0     0    0   0    0    0    0     0     0\n",
      "8   234    82   675   99     1    1    62   802  160    97   662     0     0     0    0     0   0     0    0     0   0   0   0    0   0   0     0     0    0   0    0    0    0     0     0\n",
      "9  1583    10   151   58  3144  150    37  1467   17    10   440  4027  1772  1628  447  1428  10   141  150   622   1   1  89  817   1  91  3145  1370  916  10  296  150  622  1468  3320\n"
     ]
    }
   ],
   "source": [
    "print(pd.DataFrame(X_padded).head(10).to_string())"
   ]
  },
  {
   "cell_type": "markdown",
   "metadata": {},
   "source": [
    "Splitting the dataset into training, testing and validation datasets."
   ]
  },
  {
   "cell_type": "code",
   "execution_count": 228,
   "metadata": {},
   "outputs": [],
   "source": [
    "X = X_padded  \n",
    "y = df['Sentiment'] \n",
    "\n",
    "y = to_categorical(y, num_classes=3)\n",
    "\n",
    "X_train, X_temp, y_train, y_temp = train_test_split(X, y, test_size=0.2, random_state=42)\n",
    "X_val, X_test, y_val, y_test = train_test_split(X_temp, y_temp, test_size=0.5, random_state=42)"
   ]
  },
  {
   "cell_type": "markdown",
   "metadata": {},
   "source": [
    "Building the GRU model"
   ]
  },
  {
   "cell_type": "code",
   "execution_count": 229,
   "metadata": {},
   "outputs": [],
   "source": [
    "model = Sequential()\n",
    "model.add(Embedding(input_dim=5000, output_dim=50))\n",
    "model.add(GRU(32, return_sequences=True))\n",
    "model.add(GRU(32))\n",
    "model.add(Dropout(0.2))\n",
    "model.add(Dense(64, activation='relu'))\n",
    "model.add(BatchNormalization())\n",
    "model.add(Dense(3, activation='softmax'))\n",
    "    \n",
    "model.compile(optimizer=Adam(learning_rate=1e-4),  \n",
    "                  loss='categorical_crossentropy', \n",
    "                  metrics=['accuracy'])"
   ]
  },
  {
   "cell_type": "markdown",
   "metadata": {},
   "source": [
    "Training the model"
   ]
  },
  {
   "cell_type": "code",
   "execution_count": 230,
   "metadata": {},
   "outputs": [
    {
     "name": "stdout",
     "output_type": "stream",
     "text": [
      "Epoch 1/10\n",
      "\u001b[1m460/460\u001b[0m \u001b[32m━━━━━━━━━━━━━━━━━━━━\u001b[0m\u001b[37m\u001b[0m \u001b[1m8s\u001b[0m 12ms/step - accuracy: 0.4775 - loss: 1.0647 - val_accuracy: 0.6171 - val_loss: 0.9637\n",
      "Epoch 2/10\n",
      "\u001b[1m460/460\u001b[0m \u001b[32m━━━━━━━━━━━━━━━━━━━━\u001b[0m\u001b[37m\u001b[0m \u001b[1m5s\u001b[0m 11ms/step - accuracy: 0.6315 - loss: 0.9355 - val_accuracy: 0.6236 - val_loss: 0.9145\n",
      "Epoch 3/10\n",
      "\u001b[1m460/460\u001b[0m \u001b[32m━━━━━━━━━━━━━━━━━━━━\u001b[0m\u001b[37m\u001b[0m \u001b[1m5s\u001b[0m 11ms/step - accuracy: 0.6341 - loss: 0.8929 - val_accuracy: 0.6264 - val_loss: 0.9077\n",
      "Epoch 4/10\n",
      "\u001b[1m460/460\u001b[0m \u001b[32m━━━━━━━━━━━━━━━━━━━━\u001b[0m\u001b[37m\u001b[0m \u001b[1m5s\u001b[0m 11ms/step - accuracy: 0.6427 - loss: 0.8669 - val_accuracy: 0.6253 - val_loss: 0.9689\n",
      "Epoch 5/10\n",
      "\u001b[1m460/460\u001b[0m \u001b[32m━━━━━━━━━━━━━━━━━━━━\u001b[0m\u001b[37m\u001b[0m \u001b[1m5s\u001b[0m 11ms/step - accuracy: 0.6610 - loss: 0.8274 - val_accuracy: 0.6275 - val_loss: 0.8705\n",
      "Epoch 6/10\n",
      "\u001b[1m460/460\u001b[0m \u001b[32m━━━━━━━━━━━━━━━━━━━━\u001b[0m\u001b[37m\u001b[0m \u001b[1m5s\u001b[0m 11ms/step - accuracy: 0.7085 - loss: 0.6591 - val_accuracy: 0.6890 - val_loss: 0.7152\n",
      "Epoch 7/10\n",
      "\u001b[1m460/460\u001b[0m \u001b[32m━━━━━━━━━━━━━━━━━━━━\u001b[0m\u001b[37m\u001b[0m \u001b[1m5s\u001b[0m 11ms/step - accuracy: 0.7554 - loss: 0.5683 - val_accuracy: 0.6939 - val_loss: 0.7343\n",
      "Epoch 8/10\n",
      "\u001b[1m460/460\u001b[0m \u001b[32m━━━━━━━━━━━━━━━━━━━━\u001b[0m\u001b[37m\u001b[0m \u001b[1m5s\u001b[0m 11ms/step - accuracy: 0.7827 - loss: 0.5222 - val_accuracy: 0.6961 - val_loss: 0.7408\n",
      "Epoch 9/10\n",
      "\u001b[1m460/460\u001b[0m \u001b[32m━━━━━━━━━━━━━━━━━━━━\u001b[0m\u001b[37m\u001b[0m \u001b[1m5s\u001b[0m 11ms/step - accuracy: 0.8079 - loss: 0.4730 - val_accuracy: 0.6737 - val_loss: 0.7763\n",
      "Epoch 10/10\n",
      "\u001b[1m460/460\u001b[0m \u001b[32m━━━━━━━━━━━━━━━━━━━━\u001b[0m\u001b[37m\u001b[0m \u001b[1m5s\u001b[0m 11ms/step - accuracy: 0.8098 - loss: 0.4682 - val_accuracy: 0.7004 - val_loss: 0.7569\n"
     ]
    },
    {
     "data": {
      "text/plain": [
       "<keras.src.callbacks.history.History at 0x1c59965af50>"
      ]
     },
     "execution_count": 230,
     "metadata": {},
     "output_type": "execute_result"
    }
   ],
   "source": [
    "model.fit(X_train, y_train, epochs=10, batch_size=32, validation_data=(X_val, y_val))"
   ]
  },
  {
   "cell_type": "markdown",
   "metadata": {},
   "source": [
    "Evaluating the model"
   ]
  },
  {
   "cell_type": "code",
   "execution_count": 231,
   "metadata": {},
   "outputs": [
    {
     "name": "stdout",
     "output_type": "stream",
     "text": [
      "\u001b[1m58/58\u001b[0m \u001b[32m━━━━━━━━━━━━━━━━━━━━\u001b[0m\u001b[37m\u001b[0m \u001b[1m2s\u001b[0m 7ms/step\n",
      "Test Accuracy: 0.6973\n",
      "\n",
      "Classification Report:\n",
      "              precision    recall  f1-score   support\n",
      "\n",
      "           0       0.67      0.25      0.36       252\n",
      "           1       0.47      0.51      0.49       458\n",
      "           2       0.79      0.88      0.83      1127\n",
      "\n",
      "    accuracy                           0.70      1837\n",
      "   macro avg       0.64      0.54      0.56      1837\n",
      "weighted avg       0.69      0.70      0.68      1837\n",
      "\n"
     ]
    }
   ],
   "source": [
    "y_pred = model.predict(X_test)\n",
    "\n",
    "y_pred_classes = y_pred.argmax(axis=1)\n",
    "y_test_classes = y_test.argmax(axis=1)\n",
    "\n",
    "accuracy = accuracy_score(y_test_classes, y_pred_classes)\n",
    "print(f\"Test Accuracy: {accuracy:.4f}\")\n",
    "\n",
    "\n",
    "print(\"\\nClassification Report:\")\n",
    "print(classification_report(y_test_classes, y_pred_classes))"
   ]
  },
  {
   "cell_type": "markdown",
   "metadata": {},
   "source": [
    " Model Hyperparameter Tuning Setup"
   ]
  },
  {
   "cell_type": "code",
   "execution_count": 232,
   "metadata": {},
   "outputs": [],
   "source": [
    "def build_model(hp):\n",
    "    model = Sequential()\n",
    "    \n",
    "\n",
    "    model.add(Embedding(\n",
    "        input_dim=5000,\n",
    "        output_dim=hp.Int('embedding_dim', min_value=50, max_value=200, step=50)\n",
    "    ))\n",
    "    \n",
    "\n",
    "    model.add(GRU(\n",
    "        hp.Int('gru_units_1', min_value=32, max_value=256, step=32),\n",
    "        return_sequences=hp.Choice('gru_layer_2', [True, False])  \n",
    "    ))\n",
    "    \n",
    "\n",
    "    if hp.Choice('gru_layer_2', [True, False]):\n",
    "        model.add(GRU(hp.Int('gru_units_2', min_value=32, max_value=128, step=32)))\n",
    "    \n",
    "    model.add(Dropout(hp.Float('dropout_rate', min_value=0.2, max_value=0.5, step=0.1)))\n",
    "\n",
    "    model.add(Dense(hp.Int('dense_units', min_value=64, max_value=256, step=64), activation='relu'))\n",
    "    \n",
    "\n",
    "    if hp.Boolean('batch_norm'):\n",
    "        model.add(BatchNormalization())\n",
    "    \n",
    "    model.add(Dense(3, activation='softmax'))\n",
    "    \n",
    "    model.compile(\n",
    "        optimizer=Adam(learning_rate=hp.Float('learning_rate', min_value=1e-4, max_value=1e-2, sampling='log')),\n",
    "        loss='categorical_crossentropy',\n",
    "        metrics=['accuracy']\n",
    "    )\n",
    "    \n",
    "    return model"
   ]
  },
  {
   "cell_type": "markdown",
   "metadata": {},
   "source": [
    " Hyperparameter tuning using Keras Tuner's Hyperband for `val_accuracy`.\n"
   ]
  },
  {
   "cell_type": "code",
   "execution_count": 233,
   "metadata": {},
   "outputs": [
    {
     "name": "stdout",
     "output_type": "stream",
     "text": [
      "Reloading Tuner from my_dir\\sentiment_analysis\\tuner0.json\n"
     ]
    }
   ],
   "source": [
    "tuner = kt.Hyperband(\n",
    "    build_model,\n",
    "    objective='val_accuracy',\n",
    "    max_epochs=10,\n",
    "    hyperband_iterations=2,\n",
    "    directory='my_dir',\n",
    "    project_name='sentiment_analysis'\n",
    ")\n",
    "\n",
    "tuner.search(X_train, y_train, epochs=10, validation_data=(X_val, y_val))"
   ]
  },
  {
   "cell_type": "markdown",
   "metadata": {},
   "source": [
    "Printing out the best hyperparameters"
   ]
  },
  {
   "cell_type": "code",
   "execution_count": 234,
   "metadata": {},
   "outputs": [
    {
     "name": "stdout",
     "output_type": "stream",
     "text": [
      "Best hyperparameters: {'embedding_dim': 50, 'gru_units_1': 192, 'gru_layer_2': 0, 'gru_units_2': 96, 'dropout_rate': 0.2, 'dense_units': 256, 'batch_norm': False, 'learning_rate': 0.001494669481799156, 'tuner/epochs': 4, 'tuner/initial_epoch': 2, 'tuner/bracket': 2, 'tuner/round': 1, 'tuner/trial_id': '0005'}\n"
     ]
    }
   ],
   "source": [
    "best_hps = tuner.get_best_hyperparameters(1)[0]\n",
    "print(\"Best hyperparameters:\", best_hps.values)\n",
    "\n",
    "# Best hyperparameters: {\n",
    "    # 'embedding_dim': 50,\n",
    "    # 'gru_units_1': 192,\n",
    "    # 'gru_layer_2': 0,\n",
    "    # 'gru_units_2': 96,\n",
    "    # 'dropout_rate': 0.2,\n",
    "    # 'dense_units': 256,\n",
    "    # 'batch_norm': False,\n",
    "    # 'learning_rate': 0.001494669481799156,\n",
    "    # 'tuner/epochs': 4,\n",
    "    # 'tuner/initial_epoch': 2,\n",
    "    # 'tuner/bracket': 2,\n",
    "    # 'tuner/round': 1,\n",
    "    # 'tuner/trial_id': '0005'\n",
    "    # }"
   ]
  },
  {
   "cell_type": "markdown",
   "metadata": {},
   "source": [
    "Building the best model "
   ]
  },
  {
   "cell_type": "code",
   "execution_count": 235,
   "metadata": {},
   "outputs": [],
   "source": [
    "best_model = Sequential()\n",
    "best_model.add(Embedding(input_dim=5000, output_dim=50))  \n",
    "best_model.add(GRU(192, return_sequences=False))  \n",
    "best_model.add(Dropout(0.2))  \n",
    "best_model.add(Dense(256, activation='relu'))  \n",
    "best_model.add(Dense(3, activation='softmax')) \n",
    "\n",
    "best_model.compile(optimizer=Adam(learning_rate=0.001494669481799156),  \n",
    "              loss='categorical_crossentropy', \n",
    "              metrics=['accuracy'])"
   ]
  },
  {
   "cell_type": "markdown",
   "metadata": {},
   "source": [
    "Fitting it with the training and validation data"
   ]
  },
  {
   "cell_type": "code",
   "execution_count": 236,
   "metadata": {},
   "outputs": [
    {
     "name": "stdout",
     "output_type": "stream",
     "text": [
      "Epoch 1/4\n"
     ]
    },
    {
     "name": "stdout",
     "output_type": "stream",
     "text": [
      "\u001b[1m460/460\u001b[0m \u001b[32m━━━━━━━━━━━━━━━━━━━━\u001b[0m\u001b[37m\u001b[0m \u001b[1m12s\u001b[0m 23ms/step - accuracy: 0.6283 - loss: 0.9103 - val_accuracy: 0.6253 - val_loss: 0.8916\n",
      "Epoch 2/4\n",
      "\u001b[1m460/460\u001b[0m \u001b[32m━━━━━━━━━━━━━━━━━━━━\u001b[0m\u001b[37m\u001b[0m \u001b[1m10s\u001b[0m 22ms/step - accuracy: 0.6563 - loss: 0.8233 - val_accuracy: 0.6792 - val_loss: 0.6998\n",
      "Epoch 3/4\n",
      "\u001b[1m460/460\u001b[0m \u001b[32m━━━━━━━━━━━━━━━━━━━━\u001b[0m\u001b[37m\u001b[0m \u001b[1m10s\u001b[0m 22ms/step - accuracy: 0.7580 - loss: 0.5574 - val_accuracy: 0.7331 - val_loss: 0.6366\n",
      "Epoch 4/4\n",
      "\u001b[1m460/460\u001b[0m \u001b[32m━━━━━━━━━━━━━━━━━━━━\u001b[0m\u001b[37m\u001b[0m \u001b[1m10s\u001b[0m 22ms/step - accuracy: 0.8264 - loss: 0.4408 - val_accuracy: 0.7113 - val_loss: 0.7262\n"
     ]
    },
    {
     "data": {
      "text/plain": [
       "<keras.src.callbacks.history.History at 0x1c5ed51fa60>"
      ]
     },
     "execution_count": 236,
     "metadata": {},
     "output_type": "execute_result"
    }
   ],
   "source": [
    "best_model.fit(X_train, y_train, epochs=4, batch_size=32, validation_data=(X_val, y_val))"
   ]
  },
  {
   "cell_type": "markdown",
   "metadata": {},
   "source": [
    "Evaluating the model"
   ]
  },
  {
   "cell_type": "code",
   "execution_count": 237,
   "metadata": {},
   "outputs": [
    {
     "name": "stdout",
     "output_type": "stream",
     "text": [
      "\u001b[1m58/58\u001b[0m \u001b[32m━━━━━━━━━━━━━━━━━━━━\u001b[0m\u001b[37m\u001b[0m \u001b[1m0s\u001b[0m 7ms/step - accuracy: 0.7206 - loss: 0.7179\n",
      "Test Loss: 0.7429866194725037\n",
      "Test Accuracy: 0.7147523164749146\n"
     ]
    }
   ],
   "source": [
    "test_loss, test_accuracy = best_model.evaluate(X_test, y_test)\n",
    "\n",
    "print(f\"Test Loss: {test_loss}\")\n",
    "print(f\"Test Accuracy: {test_accuracy}\")"
   ]
  },
  {
   "cell_type": "markdown",
   "metadata": {},
   "source": [
    "Generating the classification report by predicting the test values"
   ]
  },
  {
   "cell_type": "code",
   "execution_count": 238,
   "metadata": {},
   "outputs": [
    {
     "name": "stdout",
     "output_type": "stream",
     "text": [
      "\u001b[1m58/58\u001b[0m \u001b[32m━━━━━━━━━━━━━━━━━━━━\u001b[0m\u001b[37m\u001b[0m \u001b[1m1s\u001b[0m 9ms/step\n",
      "              precision    recall  f1-score   support\n",
      "\n",
      "           0       0.60      0.36      0.45       252\n",
      "           1       0.52      0.49      0.50       458\n",
      "           2       0.80      0.89      0.84      1127\n",
      "\n",
      "    accuracy                           0.71      1837\n",
      "   macro avg       0.64      0.58      0.60      1837\n",
      "weighted avg       0.70      0.71      0.70      1837\n",
      "\n"
     ]
    }
   ],
   "source": [
    "y_pred = best_model.predict(X_test)\n",
    "y_pred_classes = np.argmax(y_pred, axis=1)  \n",
    "\n",
    "y_true = np.argmax(y_test, axis=1)\n",
    "\n",
    "print(classification_report(y_true, y_pred_classes))"
   ]
  },
  {
   "cell_type": "markdown",
   "metadata": {},
   "source": [
    "Confusion Matrix  \n",
    "Generates and visualizes the confusion matrix to evaluate model performance across sentiment classes.  "
   ]
  },
  {
   "cell_type": "code",
   "execution_count": 239,
   "metadata": {},
   "outputs": [
    {
     "data": {
      "image/png": "[encoded data removed]",
      "text/plain": [
       "<Figure size 800x600 with 2 Axes>"
      ]
     },
     "metadata": {},
     "output_type": "display_data"
    }
   ],
   "source": [
    "y_pred_labels = y_pred.argmax(axis=1)\n",
    "y_test_labels = y_test.argmax(axis=1)\n",
    "\n",
    "\n",
    "conf_matrix = confusion_matrix(y_test_labels, y_pred_labels)\n",
    "class_labels = ['Negative', 'Neutral', 'Positive']\n",
    "\n",
    "\n",
    "plt.figure(figsize=(8, 6))\n",
    "sns.heatmap(conf_matrix, annot=True, fmt='d', cmap='Blues', xticklabels=class_labels, yticklabels=class_labels)\n",
    "plt.title('Confusion Matrix')\n",
    "plt.xlabel('Predicted')\n",
    "plt.ylabel('True')\n",
    "plt.show()\n"
   ]
  },
  {
   "cell_type": "markdown",
   "metadata": {},
   "source": [
    "Saving the model"
   ]
  },
  {
   "cell_type": "code",
   "execution_count": 240,
   "metadata": {},
   "outputs": [],
   "source": [
    "best_model.save('sentiment_analysis_model.keras')"
   ]
  },
  {
   "cell_type": "markdown",
   "metadata": {},
   "source": [
    "Building the Second Model (LSTM)"
   ]
  },
  {
   "cell_type": "code",
   "execution_count": 241,
   "metadata": {},
   "outputs": [],
   "source": [
    "model = Sequential()\n",
    "model.add(Embedding(input_dim=5000, output_dim=100))  \n",
    "model.add(LSTM(128, return_sequences=False))  \n",
    "model.add(Dropout(0.3))\n",
    "model.add(Dense(128, activation='relu'))  \n",
    "model.add(Dense(3, activation='softmax'))\n",
    "\n",
    "model.compile(optimizer=Adam(learning_rate=0.001), \n",
    "                  loss='categorical_crossentropy', \n",
    "                  metrics=['accuracy'])"
   ]
  },
  {
   "cell_type": "markdown",
   "metadata": {},
   "source": [
    "Training the model"
   ]
  },
  {
   "cell_type": "code",
   "execution_count": 242,
   "metadata": {},
   "outputs": [
    {
     "name": "stdout",
     "output_type": "stream",
     "text": [
      "Epoch 1/10\n",
      "\u001b[1m460/460\u001b[0m \u001b[32m━━━━━━━━━━━━━━━━━━━━\u001b[0m\u001b[37m\u001b[0m \u001b[1m7s\u001b[0m 13ms/step - accuracy: 0.6271 - loss: 0.8984 - val_accuracy: 0.7032 - val_loss: 0.6753\n",
      "Epoch 2/10\n",
      "\u001b[1m460/460\u001b[0m \u001b[32m━━━━━━━━━━━━━━━━━━━━\u001b[0m\u001b[37m\u001b[0m \u001b[1m6s\u001b[0m 12ms/step - accuracy: 0.7247 - loss: 0.6311 - val_accuracy: 0.7141 - val_loss: 0.6748\n",
      "Epoch 3/10\n",
      "\u001b[1m460/460\u001b[0m \u001b[32m━━━━━━━━━━━━━━━━━━━━\u001b[0m\u001b[37m\u001b[0m \u001b[1m6s\u001b[0m 13ms/step - accuracy: 0.7736 - loss: 0.5341 - val_accuracy: 0.7222 - val_loss: 0.7234\n",
      "Epoch 4/10\n",
      "\u001b[1m460/460\u001b[0m \u001b[32m━━━━━━━━━━━━━━━━━━━━\u001b[0m\u001b[37m\u001b[0m \u001b[1m6s\u001b[0m 13ms/step - accuracy: 0.8183 - loss: 0.4627 - val_accuracy: 0.7168 - val_loss: 0.7211\n",
      "Epoch 5/10\n",
      "\u001b[1m460/460\u001b[0m \u001b[32m━━━━━━━━━━━━━━━━━━━━\u001b[0m\u001b[37m\u001b[0m \u001b[1m6s\u001b[0m 12ms/step - accuracy: 0.8562 - loss: 0.3941 - val_accuracy: 0.7032 - val_loss: 0.7791\n",
      "Epoch 6/10\n",
      "\u001b[1m460/460\u001b[0m \u001b[32m━━━━━━━━━━━━━━━━━━━━\u001b[0m\u001b[37m\u001b[0m \u001b[1m6s\u001b[0m 13ms/step - accuracy: 0.8796 - loss: 0.3452 - val_accuracy: 0.6983 - val_loss: 0.8680\n",
      "Epoch 7/10\n",
      "\u001b[1m460/460\u001b[0m \u001b[32m━━━━━━━━━━━━━━━━━━━━\u001b[0m\u001b[37m\u001b[0m \u001b[1m6s\u001b[0m 13ms/step - accuracy: 0.8951 - loss: 0.3069 - val_accuracy: 0.7037 - val_loss: 0.8515\n",
      "Epoch 8/10\n",
      "\u001b[1m460/460\u001b[0m \u001b[32m━━━━━━━━━━━━━━━━━━━━\u001b[0m\u001b[37m\u001b[0m \u001b[1m6s\u001b[0m 13ms/step - accuracy: 0.9139 - loss: 0.2587 - val_accuracy: 0.6999 - val_loss: 0.9577\n",
      "Epoch 9/10\n",
      "\u001b[1m460/460\u001b[0m \u001b[32m━━━━━━━━━━━━━━━━━━━━\u001b[0m\u001b[37m\u001b[0m \u001b[1m6s\u001b[0m 13ms/step - accuracy: 0.9241 - loss: 0.2333 - val_accuracy: 0.6879 - val_loss: 1.1918\n",
      "Epoch 10/10\n",
      "\u001b[1m460/460\u001b[0m \u001b[32m━━━━━━━━━━━━━━━━━━━━\u001b[0m\u001b[37m\u001b[0m \u001b[1m6s\u001b[0m 13ms/step - accuracy: 0.9259 - loss: 0.2103 - val_accuracy: 0.7021 - val_loss: 1.0610\n"
     ]
    },
    {
     "data": {
      "text/plain": [
       "<keras.src.callbacks.history.History at 0x1c586c20400>"
      ]
     },
     "execution_count": 242,
     "metadata": {},
     "output_type": "execute_result"
    }
   ],
   "source": [
    "model.fit(X_train, y_train, batch_size=32, epochs=10 ,validation_data=(X_val, y_val))"
   ]
  },
  {
   "cell_type": "markdown",
   "metadata": {},
   "source": [
    "Evaluating the model"
   ]
  },
  {
   "cell_type": "code",
   "execution_count": 243,
   "metadata": {},
   "outputs": [
    {
     "name": "stdout",
     "output_type": "stream",
     "text": [
      "\u001b[1m58/58\u001b[0m \u001b[32m━━━━━━━━━━━━━━━━━━━━\u001b[0m\u001b[37m\u001b[0m \u001b[1m1s\u001b[0m 7ms/step\n",
      "Test Accuracy: 0.7039\n",
      "\n",
      "Classification Report:\n",
      "              precision    recall  f1-score   support\n",
      "\n",
      "           0       0.55      0.38      0.45       252\n",
      "           1       0.50      0.47      0.48       458\n",
      "           2       0.79      0.87      0.83      1127\n",
      "\n",
      "    accuracy                           0.70      1837\n",
      "   macro avg       0.62      0.57      0.59      1837\n",
      "weighted avg       0.69      0.70      0.69      1837\n",
      "\n"
     ]
    }
   ],
   "source": [
    "y_pred = model.predict(X_test)\n",
    "\n",
    "y_pred_classes = y_pred.argmax(axis=1)\n",
    "y_test_classes = y_test.argmax(axis=1)\n",
    "\n",
    "accuracy = accuracy_score(y_test_classes, y_pred_classes)\n",
    "print(f\"Test Accuracy: {accuracy:.4f}\")\n",
    "\n",
    "\n",
    "print(\"\\nClassification Report:\")\n",
    "print(classification_report(y_test_classes, y_pred_classes))\n"
   ]
  },
  {
   "cell_type": "markdown",
   "metadata": {},
   "source": [
    "Define LSTM model with hyperparameter tuning for embedding dimensions, LSTM units, dropout rate, dense units, and learning rate.\n"
   ]
  },
  {
   "cell_type": "code",
   "execution_count": 244,
   "metadata": {},
   "outputs": [],
   "source": [
    "def build_lstm_model(hp):\n",
    "    model = Sequential()\n",
    "    model.add(Embedding(input_dim=5000, output_dim=hp.Int('embedding_dim', min_value=50, max_value=200, step=50)))\n",
    "    model.add(LSTM(hp.Int('lstm_units', min_value=64, max_value=256, step=64), return_sequences=False))\n",
    "    \n",
    "    model.add(Dropout(hp.Float('dropout_rate', min_value=0.2, max_value=0.5, step=0.1)))\n",
    "\n",
    "    model.add(Dense(hp.Int('dense_units', min_value=64, max_value=256, step=64), activation='relu'))\n",
    "    model.add(Dense(3, activation='softmax'))\n",
    "    model.compile(optimizer=Adam(learning_rate=hp.Float('learning_rate', min_value=1e-4, max_value=1e-2, sampling='log')),\n",
    "                  loss='categorical_crossentropy',\n",
    "                  metrics=['accuracy'])\n",
    "\n",
    "    return model"
   ]
  },
  {
   "cell_type": "markdown",
   "metadata": {},
   "source": [
    "Initialize Hyperband tuner for LSTM model with validation accuracy as the objective.\n"
   ]
  },
  {
   "cell_type": "code",
   "execution_count": null,
   "metadata": {},
   "outputs": [
    {
     "name": "stdout",
     "output_type": "stream",
     "text": [
      "Reloading Tuner from my_dir\\sentiment_analysis_lstm\\tuner0.json\n"
     ]
    }
   ],
   "source": [
    "tuner = kt.Hyperband(\n",
    "    build_lstm_model,\n",
    "    objective='val_accuracy',\n",
    "    max_epochs=10,\n",
    "    hyperband_iterations=2,\n",
    "    directory='my_dir',\n",
    "    project_name='sentiment_analysis_lstm'\n",
    ")\n",
    "\n",
    "tuner.search(X_train, y_train, epochs=10, validation_data=(X_val, y_val))"
   ]
  },
  {
   "cell_type": "markdown",
   "metadata": {},
   "source": [
    "Printing the best values for each hyperparamaters"
   ]
  },
  {
   "cell_type": "code",
   "execution_count": 246,
   "metadata": {},
   "outputs": [],
   "source": [
    "# print(best_hps.values)\n",
    "\n",
    "# {\n",
    "    # 'embedding_dim': 50,\n",
    "    # 'lstm_units': 64,\n",
    "    # dropout_rate': 0.2,\n",
    "    # 'dense_units': 256,\n",
    "    # 'learning_rate': 0.0018049869309856735,\n",
    "    # 'tuner/epochs': 4,\n",
    "    # 'tuner/initial_epoch': 0,\n",
    "    # 'tuner/bracket': 1,\n",
    "    # 'tuner/round': 0\n",
    "    # }"
   ]
  },
  {
   "cell_type": "markdown",
   "metadata": {},
   "source": [
    "Building the best model "
   ]
  },
  {
   "cell_type": "code",
   "execution_count": 247,
   "metadata": {},
   "outputs": [],
   "source": [
    "best_model = Sequential()\n",
    "best_model.add(Embedding(input_dim=5000, output_dim=50))  \n",
    "best_model.add(LSTM(64, return_sequences=False))  \n",
    "best_model.add(Dropout(0.2))  \n",
    "best_model.add(Dense(256, activation='relu'))  \n",
    "best_model.add(Dense(3, activation='softmax'))  \n",
    "\n",
    "best_model.compile(optimizer=Adam(learning_rate=0.0018049869309856735),  \n",
    "                  loss='categorical_crossentropy', \n",
    "                  metrics=['accuracy'])"
   ]
  },
  {
   "cell_type": "markdown",
   "metadata": {},
   "source": [
    "Fitting it with the training and validation data"
   ]
  },
  {
   "cell_type": "code",
   "execution_count": 248,
   "metadata": {},
   "outputs": [
    {
     "name": "stdout",
     "output_type": "stream",
     "text": [
      "Epoch 1/10\n",
      "\u001b[1m460/460\u001b[0m \u001b[32m━━━━━━━━━━━━━━━━━━━━\u001b[0m\u001b[37m\u001b[0m \u001b[1m5s\u001b[0m 8ms/step - accuracy: 0.6178 - loss: 0.8976 - val_accuracy: 0.6999 - val_loss: 0.7076\n",
      "Epoch 2/10\n",
      "\u001b[1m460/460\u001b[0m \u001b[32m━━━━━━━━━━━━━━━━━━━━\u001b[0m\u001b[37m\u001b[0m \u001b[1m3s\u001b[0m 7ms/step - accuracy: 0.7169 - loss: 0.6405 - val_accuracy: 0.7086 - val_loss: 0.6782\n",
      "Epoch 3/10\n",
      "\u001b[1m460/460\u001b[0m \u001b[32m━━━━━━━━━━━━━━━━━━━━\u001b[0m\u001b[37m\u001b[0m \u001b[1m3s\u001b[0m 8ms/step - accuracy: 0.7711 - loss: 0.5300 - val_accuracy: 0.6868 - val_loss: 0.7517\n",
      "Epoch 4/10\n",
      "\u001b[1m460/460\u001b[0m \u001b[32m━━━━━━━━━━━━━━━━━━━━\u001b[0m\u001b[37m\u001b[0m \u001b[1m3s\u001b[0m 7ms/step - accuracy: 0.8087 - loss: 0.4658 - val_accuracy: 0.7097 - val_loss: 0.7361\n",
      "Epoch 5/10\n",
      "\u001b[1m460/460\u001b[0m \u001b[32m━━━━━━━━━━━━━━━━━━━━\u001b[0m\u001b[37m\u001b[0m \u001b[1m3s\u001b[0m 7ms/step - accuracy: 0.8570 - loss: 0.3804 - val_accuracy: 0.7070 - val_loss: 0.8316\n",
      "Epoch 6/10\n",
      "\u001b[1m460/460\u001b[0m \u001b[32m━━━━━━━━━━━━━━━━━━━━\u001b[0m\u001b[37m\u001b[0m \u001b[1m3s\u001b[0m 7ms/step - accuracy: 0.8830 - loss: 0.3289 - val_accuracy: 0.7086 - val_loss: 0.9032\n",
      "Epoch 7/10\n",
      "\u001b[1m460/460\u001b[0m \u001b[32m━━━━━━━━━━━━━━━━━━━━\u001b[0m\u001b[37m\u001b[0m \u001b[1m3s\u001b[0m 7ms/step - accuracy: 0.9091 - loss: 0.2689 - val_accuracy: 0.7053 - val_loss: 0.9652\n",
      "Epoch 8/10\n",
      "\u001b[1m460/460\u001b[0m \u001b[32m━━━━━━━━━━━━━━━━━━━━\u001b[0m\u001b[37m\u001b[0m \u001b[1m3s\u001b[0m 7ms/step - accuracy: 0.9189 - loss: 0.2423 - val_accuracy: 0.6999 - val_loss: 0.9477\n",
      "Epoch 9/10\n",
      "\u001b[1m460/460\u001b[0m \u001b[32m━━━━━━━━━━━━━━━━━━━━\u001b[0m\u001b[37m\u001b[0m \u001b[1m3s\u001b[0m 7ms/step - accuracy: 0.9310 - loss: 0.2097 - val_accuracy: 0.6950 - val_loss: 1.2742\n",
      "Epoch 10/10\n",
      "\u001b[1m460/460\u001b[0m \u001b[32m━━━━━━━━━━━━━━━━━━━━\u001b[0m\u001b[37m\u001b[0m \u001b[1m3s\u001b[0m 7ms/step - accuracy: 0.9433 - loss: 0.1751 - val_accuracy: 0.7021 - val_loss: 1.1199\n"
     ]
    },
    {
     "data": {
      "text/plain": [
       "<keras.src.callbacks.history.History at 0x1c61d063640>"
      ]
     },
     "execution_count": 248,
     "metadata": {},
     "output_type": "execute_result"
    }
   ],
   "source": [
    "best_model.fit(X_train, y_train, epochs=10, batch_size=32, validation_data=(X_val, y_val))"
   ]
  },
  {
   "cell_type": "markdown",
   "metadata": {},
   "source": [
    "Generating the classification report after predicting the test values"
   ]
  },
  {
   "cell_type": "code",
   "execution_count": 249,
   "metadata": {},
   "outputs": [
    {
     "name": "stdout",
     "output_type": "stream",
     "text": [
      "\u001b[1m58/58\u001b[0m \u001b[32m━━━━━━━━━━━━━━━━━━━━\u001b[0m\u001b[37m\u001b[0m \u001b[1m0s\u001b[0m 4ms/step\n",
      "Test Accuracy: 0.7017\n",
      "\n",
      "Classification Report:\n",
      "              precision    recall  f1-score   support\n",
      "\n",
      "           0       0.62      0.32      0.42       252\n",
      "           1       0.50      0.47      0.48       458\n",
      "           2       0.78      0.88      0.83      1127\n",
      "\n",
      "    accuracy                           0.70      1837\n",
      "   macro avg       0.63      0.56      0.58      1837\n",
      "weighted avg       0.69      0.70      0.69      1837\n",
      "\n"
     ]
    }
   ],
   "source": [
    "y_pred = best_model.predict(X_test)\n",
    "\n",
    "y_pred_classes = y_pred.argmax(axis=1)\n",
    "y_test_classes = y_test.argmax(axis=1)\n",
    "\n",
    "accuracy = accuracy_score(y_test_classes, y_pred_classes)\n",
    "print(f\"Test Accuracy: {accuracy:.4f}\")\n",
    "\n",
    "\n",
    "print(\"\\nClassification Report:\")\n",
    "print(classification_report(y_test_classes, y_pred_classes))\n"
   ]
  },
  {
   "cell_type": "markdown",
   "metadata": {},
   "source": [
    "Plotting the confusion matrix"
   ]
  },
  {
   "cell_type": "code",
   "execution_count": 250,
   "metadata": {},
   "outputs": [
    {
     "data": {
      "image/png": "[encoded data removed]",
      "text/plain": [
       "<Figure size 800x600 with 2 Axes>"
      ]
     },
     "metadata": {},
     "output_type": "display_data"
    }
   ],
   "source": [
    "y_pred_labels = y_pred.argmax(axis=1)\n",
    "y_test_labels = y_test.argmax(axis=1)\n",
    "\n",
    "\n",
    "conf_matrix = confusion_matrix(y_test_labels, y_pred_labels)\n",
    "class_labels = ['Negative', 'Neutral', 'Positive']\n",
    "\n",
    "\n",
    "plt.figure(figsize=(8, 6))\n",
    "sns.heatmap(conf_matrix, annot=True, fmt='d', cmap='Blues', xticklabels=class_labels, yticklabels=class_labels)\n",
    "plt.title('Confusion Matrix')\n",
    "plt.xlabel('Predicted')\n",
    "plt.ylabel('True')\n",
    "plt.show()"
   ]
  },
  {
   "cell_type": "markdown",
   "metadata": {},
   "source": [
    "Saving the model"
   ]
  },
  {
   "cell_type": "code",
   "execution_count": null,
   "metadata": {},
   "outputs": [],
   "source": [
    "best_model.save('sentiment_analysis_model_lstm.keras')"
   ]
  },
  {
   "cell_type": "markdown",
   "metadata": {},
   "source": [
    "# Conclusion  \n",
    "Through rigorous experimentation, we implemented and fine-tuned GRU and LSTM models for sentiment analysis. Despite extensive optimizations, the dataset posed challenges that limited accuracy improvements. Hyperparameter tuning helped refine model performance, but the results highlight the importance of high-quality, balanced datasets for better classification. This project demonstrates the potential and limitations of deep learning in sentiment analysis, providing valuable insights for future work in NLP.  \n"
   ]
  }
 ],
 "metadata": {
  "kernelspec": {
   "display_name": "base",
   "language": "python",
   "name": "python3"
  },
  "language_info": {
   "codemirror_mode": {
    "name": "ipython",
    "version": 3
   },
   "file_extension": ".py",
   "mimetype": "text/x-python",
   "name": "python",
   "nbconvert_exporter": "python",
   "pygments_lexer": "ipython3",
   "version": "3.10.16"
  }
 },
 "nbformat": 4,
 "nbformat_minor": 2
}
